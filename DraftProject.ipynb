{
 "cells": [
  {
   "cell_type": "markdown",
   "metadata": {},
   "source": [
    "# Draft project paper"
   ]
  },
  {
   "cell_type": "markdown",
   "metadata": {},
   "source": [
    "Наша мета — симулювати роботу команди інвесторів, завданням якої є управління портфелем фондів на суму від $1000 до $1 млн на початку 2023 року. Основна ціль полягає в тому, щоб дослідити, порівняти та запропонувати кілька різних інвестиційних альтернатив."
   ]
  },
  {
   "cell_type": "markdown",
   "metadata": {},
   "source": [
    "# Інструменти в які ми інвестуємо:"
   ]
  },
  {
   "cell_type": "markdown",
   "metadata": {},
   "source": [
    "## MSFT (Microsoft Corporation)\n",
    "Microsoft — це світовий лідер у галузі програмного забезпечення, послуг хмарних обчислень і рішень з цифрової безпеки. Компанія відома своєю операційною системою Windows, офісним пакетом Microsoft Office, хмарним сервісом Azure, а також продуктами у сфері штучного інтелекту та ігрової індустрії, включаючи Xbox. Інвестування в Microsoft нами розглядаэться як вкладення в компанію, що займає стабільні позиції на ринку та має довгостроковий потенціал зростання.\n",
    "\n",
    "## VTI (Vanguard Total Stock Market ETF)\n",
    "VTI — це ETF (фонд, що торгується на біржі) від Vanguard, який відтворює індекс усього американського фондового ринку. Він включає акції компаній різного розміру з різних секторів економіки, забезпечуючи диверсифікацію та зниження ризику для інвестора. Це популярний вибір для тих, хто хоче мати інвестиції у великому спектрі американських компаній.\n",
    "\n",
    "## BTC (Bitcoin)\n",
    "Bitcoin — перша і найпопулярніша криптовалюта у світі, яка пропонує децентралізовану систему електронних грошей, що не контролюється жодним урядом чи фінансовою інституцією. Інвестування в Bitcoin - це вкладенням в актив з високим потенціалом зростання, хоча й з високим рівнем волатильності та ризику.\n",
    "\n",
    "## KO (The Coca-Cola Company)\n",
    "The Coca-Cola Company — одна з найбільших у світі компаній, що займається виробництвом безалкогольних напоїв. Вона відома своїм флагманським продуктом Coca-Cola, а також широким асортиментом інших напоїв. Інвестування в Coca-Cola розглядаэться нами як вкладення в компанію з міцними брендами, стабільним доходом та дивідендною політикою.\n",
    "\n",
    "## TLT (iShares 20+ Year Treasury Bond ETF)\n",
    "TLT — це ETF, який інвестує в довгострокові облігації скарбниці США. Цей фонд надає інвесторам можливість отримати дохід у вигляді купонних платежів з облігацій з високим рівнем кредитної надійності. Інвестування в TLT розглядається як вкладення в безпечні активи, особливо під час періодів ринкової невизначеності та волатильності.\n",
    "\n",
    "Наш вибір охоплює широкий спектр активів — від акцій та ETF, які представляють різні сектори економіки, до криптовалюти та державних облігацій. Це дозволяє диверсифікувати портфель та зменшити ризики, пов’язані з інвестуванням."
   ]
  },
  {
   "cell_type": "markdown",
   "metadata": {},
   "source": [
    "## Крок перший: Аналіз ринку\n",
    "Завдяки платформі Yahoo Invest Шукаємо потрібні нам дані про акції компаній: Ціна акцій на момент 01.01.2023(День коли ми вкладаємо кошти) та на момент 31.12.2023(День коли ми фіксуємо профіт), а також дивіденди.\n"
   ]
  },
  {
   "cell_type": "markdown",
   "metadata": {},
   "source": [
    "| Instrument    | Opening price |Closing price| Dividends|\n",
    "| --------      | -------           |----------|-----------|\n",
    "| MSFT          |   243.08          |376.04 | 0.71%|\n",
    "| VTI           |   192.38\t        |237.22\t |1.42%|\n",
    "| BTC           | 16,547.91\t        |42,265.19|Nan|\n",
    "| KO            | 63.56\t            |58.27| 3,23%|\n",
    "| TLT           | 102.20            |91.31|\t4.07%|"
   ]
  },
  {
   "cell_type": "markdown",
   "metadata": {},
   "source": [
    "## Крок перший: Рахуємо кількість акцій/юнітів\n",
    "\n",
    "Ми вирішили розділити всі кошти порівну між всіма компаніями і отримали по $6000 на кожну"
   ]
  },
  {
   "cell_type": "code",
   "execution_count": 3,
   "metadata": {},
   "outputs": [
    {
     "name": "stdout",
     "output_type": "stream",
     "text": [
      "Data has been updated and saved to the file: TVM.csv\n",
      "   instrument       shares\n",
      "0       MSFT1    24.683232\n",
      "1        VTI1    31.188273\n",
      "2        BTC1     0.362584\n",
      "3         KO1    94.398993\n",
      "4        TLT1    58.708415\n",
      "5       MSFT2   329.109758\n",
      "6        VTI2   415.843643\n",
      "7        BTC2     4.834447\n",
      "8         KO2  1258.653241\n",
      "9        TLT2   782.778865\n",
      "10      MSFT3   822.774395\n",
      "11       VTI3  1039.609107\n",
      "12       BTC3    12.086118\n",
      "13        KO3  3146.633103\n",
      "14       TLT3  1956.947162\n"
     ]
    }
   ],
   "source": [
    "import pandas as pd\n",
    "\n",
    "# Read the data from the CSV file using pandas\n",
    "filename = 'TVM.csv'\n",
    "data = pd.read_csv(filename)\n",
    "\n",
    "# Convert the 'investment' column to integers\n",
    "data['investment'] = data['investment'].astype(int)\n",
    "data['opening_price'] = data['opening_price'].astype(float)\n",
    "# Calculate the number of shares\n",
    "data['shares'] = data['investment'] / data['opening_price']\n",
    "\n",
    "# Write the updated data back to the CSV file\n",
    "data.to_csv(filename, index=False)\n",
    "print(\"Data has been updated and saved to the file:\", filename)\n",
    "print(data[['instrument', 'shares']])\n",
    "\n"
   ]
  },
  {
   "cell_type": "code",
   "execution_count": 19,
   "metadata": {},
   "outputs": [
    {
     "name": "stdout",
     "output_type": "stream",
     "text": [
      "Data has been updated and saved to the file: TVM.csv\n",
      "  instrument       profit  profit_percent  total_end_values  capital_gains  \\\n",
      "0       MSFT  3324.482508       55.408042       9324.482508    3281.882508   \n",
      "1        VTI  1483.682171       24.728036       7483.682171    1398.482171   \n",
      "2        BTC  9324.662752      155.411046      15324.662752    9324.662752   \n",
      "3         KO  -305.570673       -5.092845       5694.429327    -499.370673   \n",
      "4        TLT  -395.134638       -6.585577       5604.865362    -639.334638   \n",
      "\n",
      "   dividend_income  \n",
      "0             42.6  \n",
      "1             85.2  \n",
      "2              0.0  \n",
      "3            193.8  \n",
      "4            244.2  \n",
      "IRR: 0.14828831990348945\n"
     ]
    }
   ],
   "source": [
    "import pandas as pd\n",
    "import numpy_financial as npf\n",
    "\n",
    "# Read the data from the CSV file using pandas\n",
    "filename = 'TVM.csv'\n",
    "data = pd.read_csv(filename)\n",
    "\n",
    "# Calculate the capital gains for each instrument\n",
    "data['capital_gains'] = (data['shares'] * data['closing_price']) - (data['shares']*data['opening_price'])\n",
    "\n",
    "# Calculate the dividend income for each instrument\n",
    "data['dividend_income'] = data['investment'] * data['dividend_percent']\n",
    "\n",
    "# Calculate the total end values for each instrument\n",
    "data['total_end_values'] = data['investment'] + data['capital_gains'] + data['dividend_income']\n",
    "\n",
    "# Calculate the profit for each instrument\n",
    "data['profit'] = data['total_end_values'] - data['investment']\n",
    "\n",
    "# Calculate the profit in %\n",
    "data['profit_percent'] = (data['profit'] / data['investment']) * 100\n",
    "\n",
    "# # Calculate the IRR\n",
    "cash_flows = data['total_end_values'].tolist()\n",
    "cash_flows.insert(0, -data['investment'].sum())\n",
    "irr = npf.irr(cash_flows)\n",
    "\n",
    "# # Write the updated data back to the CSV file\n",
    "data.to_csv(filename, index=False)\n",
    "print(\"Data has been updated and saved to the file:\", filename)\n",
    "print(data[['instrument', 'profit', 'profit_percent', 'total_end_values', 'capital_gains', 'dividend_income']])\n",
    "print(\"IRR:\", irr)\n",
    "\n"
   ]
  },
  {
   "cell_type": "markdown",
   "metadata": {},
   "source": [
    "### \n"
   ]
  },
  {
   "cell_type": "markdown",
   "metadata": {},
   "source": [
    "### So as we can see from our calculations\n",
    "|Instrument| Capital gains|Dividend gains|Total End Values|Profit|IRR|\n",
    "|----------|--------------|-----------|------------|--------|--------\n",
    "  |'MSFT'| 3281.88|70.59|9352.48|3352.48|\n",
    "  |'VTI'| 1398.48|81.93|7480.41|1480.41|\n",
    "  |'BTC'| 9324.66|0|15324.66|9324.66|\n",
    "  |'KO'|-437.067|183.13|5746.06|-253.93|\n",
    "  |'TLT'| -194.91|16.97|5822.05|-177.95|\n"
   ]
  },
  {
   "cell_type": "markdown",
   "metadata": {},
   "source": []
  },
  {
   "cell_type": "markdown",
   "metadata": {},
   "source": []
  }
 ],
 "metadata": {
  "kernelspec": {
   "display_name": "USE_THIS_env_suka",
   "language": "python",
   "name": "python3"
  },
  "language_info": {
   "codemirror_mode": {
    "name": "ipython",
    "version": 3
   },
   "file_extension": ".py",
   "mimetype": "text/x-python",
   "name": "python",
   "nbconvert_exporter": "python",
   "pygments_lexer": "ipython3",
   "version": "3.12.1"
  }
 },
 "nbformat": 4,
 "nbformat_minor": 2
}
